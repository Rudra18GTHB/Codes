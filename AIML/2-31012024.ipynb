{
 "cells": [
  {
   "cell_type": "code",
   "execution_count": 1,
   "metadata": {},
   "outputs": [],
   "source": [
    "import cv2"
   ]
  },
  {
   "cell_type": "code",
   "execution_count": 2,
   "metadata": {},
   "outputs": [
    {
     "data": {
      "text/plain": [
       "array([[[128, 109, 102],\n",
       "        [128, 109, 102],\n",
       "        [128, 109, 102],\n",
       "        ...,\n",
       "        [219, 195, 183],\n",
       "        [219, 195, 183],\n",
       "        [219, 195, 183]],\n",
       "\n",
       "       [[129, 110, 103],\n",
       "        [129, 110, 103],\n",
       "        [129, 110, 103],\n",
       "        ...,\n",
       "        [219, 195, 183],\n",
       "        [219, 195, 183],\n",
       "        [219, 195, 183]],\n",
       "\n",
       "       [[131, 112, 105],\n",
       "        [131, 112, 105],\n",
       "        [131, 112, 105],\n",
       "        ...,\n",
       "        [219, 195, 183],\n",
       "        [219, 195, 183],\n",
       "        [219, 195, 183]],\n",
       "\n",
       "       ...,\n",
       "\n",
       "       [[ 86,  91,  89],\n",
       "        [ 86,  91,  89],\n",
       "        [ 86,  91,  89],\n",
       "        ...,\n",
       "        [ 72,  74,  74],\n",
       "        [ 70,  72,  72],\n",
       "        [ 68,  70,  70]],\n",
       "\n",
       "       [[ 87,  92,  90],\n",
       "        [ 87,  92,  90],\n",
       "        [ 86,  91,  89],\n",
       "        ...,\n",
       "        [ 69,  71,  71],\n",
       "        [ 70,  72,  72],\n",
       "        [ 71,  73,  73]],\n",
       "\n",
       "       [[ 88,  92,  93],\n",
       "        [ 88,  92,  93],\n",
       "        [ 87,  91,  92],\n",
       "        ...,\n",
       "        [ 73,  73,  73],\n",
       "        [ 70,  70,  70],\n",
       "        [ 67,  67,  67]]], dtype=uint8)"
      ]
     },
     "execution_count": 2,
     "metadata": {},
     "output_type": "execute_result"
    }
   ],
   "source": [
    "image = cv2.imread(\"Images/BMW.jpg\")\n",
    "image"
   ]
  },
  {
   "cell_type": "code",
   "execution_count": 3,
   "metadata": {},
   "outputs": [],
   "source": [
    "gray_image = cv2.cvtColor(image, cv2.COLOR_BGR2GRAY)"
   ]
  },
  {
   "cell_type": "code",
   "execution_count": 4,
   "metadata": {},
   "outputs": [],
   "source": [
    "cv2.imshow(\"Original Image\", image)\n",
    "cv2.imshow(\"Gray Image\", gray_image)\n",
    "cv2.waitKey(0)\n",
    "cv2.destroyAllWindows()\n"
   ]
  }
 ],
 "metadata": {
  "kernelspec": {
   "display_name": "Python 3",
   "language": "python",
   "name": "python3"
  },
  "language_info": {
   "codemirror_mode": {
    "name": "ipython",
    "version": 3
   },
   "file_extension": ".py",
   "mimetype": "text/x-python",
   "name": "python",
   "nbconvert_exporter": "python",
   "pygments_lexer": "ipython3",
   "version": "3.12.1"
  }
 },
 "nbformat": 4,
 "nbformat_minor": 2
}
