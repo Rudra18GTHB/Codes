{
 "cells": [
  {
   "cell_type": "code",
   "execution_count": 1,
   "id": "06892cf4-f887-4787-be4a-a17574c6691c",
   "metadata": {},
   "outputs": [
    {
     "name": "stderr",
     "output_type": "stream",
     "text": [
      "2024-04-24 03:58:37.542605: I tensorflow/core/platform/cpu_feature_guard.cc:182] This TensorFlow binary is optimized to use available CPU instructions in performance-critical operations.\n",
      "To enable the following instructions: AVX2 AVX512F FMA, in other operations, rebuild TensorFlow with the appropriate compiler flags.\n"
     ]
    }
   ],
   "source": [
    "#import the necessary libraries\n",
    "import numpy as np\n",
    "import matplotlib.pyplot as plt\n",
    "from keras import Sequential,losses,layers,activations,optimizers,metrics\n",
    "from keras import datasets"
   ]
  },
  {
   "cell_type": "code",
   "execution_count": 2,
   "id": "ee618ac3-7b42-46bc-a1a4-62fb9ee5b4c8",
   "metadata": {},
   "outputs": [
    {
     "data": {
      "text/plain": [
       "['__builtins__',\n",
       " '__cached__',\n",
       " '__doc__',\n",
       " '__file__',\n",
       " '__loader__',\n",
       " '__name__',\n",
       " '__package__',\n",
       " '__path__',\n",
       " '__spec__',\n",
       " 'boston_housing',\n",
       " 'cifar10',\n",
       " 'cifar100',\n",
       " 'fashion_mnist',\n",
       " 'imdb',\n",
       " 'mnist',\n",
       " 'reuters']"
      ]
     },
     "execution_count": 2,
     "metadata": {},
     "output_type": "execute_result"
    }
   ],
   "source": [
    "dir(datasets)"
   ]
  },
  {
   "cell_type": "code",
   "execution_count": 3,
   "id": "59497f2e-5e7b-418f-af21-5f7e8a3bc168",
   "metadata": {},
   "outputs": [
    {
     "data": {
      "text/plain": [
       "\u001b[0;31mSignature:\u001b[0m \u001b[0mdatasets\u001b[0m\u001b[0;34m.\u001b[0m\u001b[0mcifar10\u001b[0m\u001b[0;34m.\u001b[0m\u001b[0mload_data\u001b[0m\u001b[0;34m(\u001b[0m\u001b[0;34m)\u001b[0m\u001b[0;34m\u001b[0m\u001b[0;34m\u001b[0m\u001b[0m\n",
       "\u001b[0;31mDocstring:\u001b[0m\n",
       "Loads the CIFAR10 dataset.\n",
       "\n",
       "This is a dataset of 50,000 32x32 color training images and 10,000 test\n",
       "images, labeled over 10 categories. See more info at the\n",
       "[CIFAR homepage](https://www.cs.toronto.edu/~kriz/cifar.html).\n",
       "\n",
       "The classes are:\n",
       "\n",
       "| Label | Description |\n",
       "|:-----:|-------------|\n",
       "|   0   | airplane    |\n",
       "|   1   | automobile  |\n",
       "|   2   | bird        |\n",
       "|   3   | cat         |\n",
       "|   4   | deer        |\n",
       "|   5   | dog         |\n",
       "|   6   | frog        |\n",
       "|   7   | horse       |\n",
       "|   8   | ship        |\n",
       "|   9   | truck       |\n",
       "\n",
       "Returns:\n",
       "  Tuple of NumPy arrays: `(x_train, y_train), (x_test, y_test)`.\n",
       "\n",
       "**x_train**: uint8 NumPy array of grayscale image data with shapes\n",
       "  `(50000, 32, 32, 3)`, containing the training data. Pixel values range\n",
       "  from 0 to 255.\n",
       "\n",
       "**y_train**: uint8 NumPy array of labels (integers in range 0-9)\n",
       "  with shape `(50000, 1)` for the training data.\n",
       "\n",
       "**x_test**: uint8 NumPy array of grayscale image data with shapes\n",
       "  `(10000, 32, 32, 3)`, containing the test data. Pixel values range\n",
       "  from 0 to 255.\n",
       "\n",
       "**y_test**: uint8 NumPy array of labels (integers in range 0-9)\n",
       "  with shape `(10000, 1)` for the test data.\n",
       "\n",
       "Example:\n",
       "\n",
       "```python\n",
       "(x_train, y_train), (x_test, y_test) = keras.datasets.cifar10.load_data()\n",
       "assert x_train.shape == (50000, 32, 32, 3)\n",
       "assert x_test.shape == (10000, 32, 32, 3)\n",
       "assert y_train.shape == (50000, 1)\n",
       "assert y_test.shape == (10000, 1)\n",
       "```\n",
       "\u001b[0;31mFile:\u001b[0m      /glob/development-tools/versions/oneapi/2023.2.0.1/inteloneapi/tensorflow/latest/lib/python3.9/site-packages/keras/src/datasets/cifar10.py\n",
       "\u001b[0;31mType:\u001b[0m      function"
      ]
     },
     "metadata": {},
     "output_type": "display_data"
    }
   ],
   "source": [
    "datasets.cifar10.load_data?"
   ]
  },
  {
   "cell_type": "code",
   "execution_count": 4,
   "id": "f26a21e9-66b4-4e76-aed9-53998d4b1828",
   "metadata": {},
   "outputs": [],
   "source": [
    "(x_train, y_train), (x_test, y_test) = keras.datasets.cifar10.load_data()"
   ]
  },
  {
   "cell_type": "code",
   "execution_count": 5,
   "id": "4b1e7f01-1442-4abf-9d78-d7bbbdc9cbcb",
   "metadata": {},
   "outputs": [
    {
     "name": "stdout",
     "output_type": "stream",
     "text": [
      "shape of x_train:(50000, 32, 32, 3)\n",
      "shape of x_test:(10000, 32, 32, 3)\n",
      "shape of y_train:(50000, 1)\n",
      "shape of y_test:(10000, 1)\n"
     ]
    }
   ],
   "source": [
    "print(f\"shape of x_train:{x_train.shape}\")\n",
    "print(f\"shape of x_test:{x_test.shape}\")\n",
    "print(f\"shape of y_train:{y_train.shape}\")\n",
    "print(f\"shape of y_test:{y_test.shape}\")"
   ]
  },
  {
   "cell_type": "code",
   "execution_count": 6,
   "id": "f299a213-8dea-4bb9-87d3-71387e47f716",
   "metadata": {},
   "outputs": [
    {
     "data": {
      "image/png": "[encoded data removed]",
      "text/plain": [
       "<Figure size 640x480 with 1 Axes>"
      ]
     },
     "metadata": {},
     "output_type": "display_data"
    }
   ],
   "source": [
    "index=np.random.randint(0,len(x_train))\n",
    "plt.imshow(x_train[index,:,:],cmap=\"gray\")\n",
    "plt.title(f\"label:{y_train[index]}\")\n",
    "plt.show()"
   ]
  },
  {
   "cell_type": "code",
   "execution_count": 7,
   "id": "7e36b399-2689-4792-a9ae-8f59a57e3b9f",
   "metadata": {},
   "outputs": [
    {
     "data": {
      "text/plain": [
       "array([[6],\n",
       "       [9],\n",
       "       [9],\n",
       "       [4],\n",
       "       [1],\n",
       "       [1],\n",
       "       [2],\n",
       "       [7],\n",
       "       [8],\n",
       "       [3]], dtype=uint8)"
      ]
     },
     "execution_count": 7,
     "metadata": {},
     "output_type": "execute_result"
    }
   ],
   "source": [
    "y_train[:10]"
   ]
  },
  {
   "cell_type": "code",
   "execution_count": 8,
   "id": "dd4153a8-6fdc-42ed-9d19-6b2e19e27c89",
   "metadata": {},
   "outputs": [
    {
     "name": "stderr",
     "output_type": "stream",
     "text": [
      "2024-04-24 03:58:47.511576: I tensorflow/core/common_runtime/process_util.cc:146] Creating new thread pool with default inter op setting: 2. Tune using inter_op_parallelism_threads for best performance.\n"
     ]
    }
   ],
   "source": [
    "#model architecture\n",
    "model=Sequential()\n",
    "model.add(layers.Conv2D(32,(3,3),activation='relu',input_shape=(32,32,3)))\n",
    "model.add(layers.MaxPool2D())\n",
    "model.add(layers.Conv2D(16,(3,3),activation='relu'))\n",
    "model.add(layers.MaxPool2D())\n",
    "model.add(layers.Conv2D(8,(3,3),activation='relu'))\n",
    "model.add(layers.MaxPool2D())\n",
    "model.add(layers.Flatten())\n",
    "model.add(layers.Dense(10,activation='relu')) #softmax is used bcuz of multiclass\n",
    "model.add(layers.Dense(10,activation='softmax'))\n"
   ]
  },
  {
   "cell_type": "code",
   "execution_count": 9,
   "id": "bafdd460-0956-4321-b13f-6a2f386ee48f",
   "metadata": {},
   "outputs": [],
   "source": [
    "model.compile(optimizer='adam',loss='CategoricalCrossentropy',metrics=['accuracy']) #categoricalcrossentropy for multiclass data"
   ]
  },
  {
   "cell_type": "code",
   "execution_count": 10,
   "id": "6e46c869-1042-4974-91f8-bd061dbbf816",
   "metadata": {},
   "outputs": [
    {
     "name": "stdout",
     "output_type": "stream",
     "text": [
      "Model: \"sequential\"\n",
      "_________________________________________________________________\n",
      " Layer (type)                Output Shape              Param #   \n",
      "=================================================================\n",
      " conv2d (Conv2D)             (None, 30, 30, 32)        896       \n",
      "                                                                 \n",
      " max_pooling2d (MaxPooling2  (None, 15, 15, 32)        0         \n",
      " D)                                                              \n",
      "                                                                 \n",
      " conv2d_1 (Conv2D)           (None, 13, 13, 16)        4624      \n",
      "                                                                 \n",
      " max_pooling2d_1 (MaxPoolin  (None, 6, 6, 16)          0         \n",
      " g2D)                                                            \n",
      "                                                                 \n",
      " conv2d_2 (Conv2D)           (None, 4, 4, 8)           1160      \n",
      "                                                                 \n",
      " max_pooling2d_2 (MaxPoolin  (None, 2, 2, 8)           0         \n",
      " g2D)                                                            \n",
      "                                                                 \n",
      " flatten (Flatten)           (None, 32)                0         \n",
      "                                                                 \n",
      " dense (Dense)               (None, 10)                330       \n",
      "                                                                 \n",
      " dense_1 (Dense)             (None, 10)                110       \n",
      "                                                                 \n",
      "=================================================================\n",
      "Total params: 7120 (27.81 KB)\n",
      "Trainable params: 7120 (27.81 KB)\n",
      "Non-trainable params: 0 (0.00 Byte)\n",
      "_________________________________________________________________\n"
     ]
    }
   ],
   "source": [
    "model.summary()"
   ]
  },
  {
   "cell_type": "code",
   "execution_count": 11,
   "id": "80129715-9e4d-4c19-a7b1-b9689ad3f7f3",
   "metadata": {},
   "outputs": [],
   "source": [
    "from keras.utils import to_categorical\n",
    "y_train_cat=to_categorical(y_train)\n"
   ]
  },
  {
   "cell_type": "code",
   "execution_count": 12,
   "id": "6a2c0105-7495-4de5-9b7c-2e23d5f09632",
   "metadata": {},
   "outputs": [
    {
     "data": {
      "text/plain": [
       "(50000, 10)"
      ]
     },
     "execution_count": 12,
     "metadata": {},
     "output_type": "execute_result"
    }
   ],
   "source": [
    "y_train_cat.shape"
   ]
  },
  {
   "cell_type": "code",
   "execution_count": null,
   "id": "cb0157a5-6acb-4bb5-bcdd-2997861da523",
   "metadata": {},
   "outputs": [
    {
     "name": "stdout",
     "output_type": "stream",
     "text": [
      "Epoch 1/10\n",
      "1563/1563 [==============================] - 153s 97ms/step - loss: 2.3607 - accuracy: 0.0988\n",
      "Epoch 2/10\n",
      "1563/1563 [==============================] - 159s 102ms/step - loss: 2.3027 - accuracy: 0.0987\n",
      "Epoch 3/10\n",
      "1563/1563 [==============================] - 159s 102ms/step - loss: 2.3026 - accuracy: 0.0994\n",
      "Epoch 4/10\n",
      "1563/1563 [==============================] - 154s 98ms/step - loss: 2.3028 - accuracy: 0.0978\n",
      "Epoch 5/10\n",
      "1563/1563 [==============================] - 159s 102ms/step - loss: 2.3032 - accuracy: 0.1001\n",
      "Epoch 6/10\n",
      "1563/1563 [==============================] - 157s 100ms/step - loss: 2.3029 - accuracy: 0.0958\n",
      "Epoch 7/10\n",
      " 864/1563 [===============>..............] - ETA: 1:09 - loss: 2.3028 - accuracy: 0.0992"
     ]
    }
   ],
   "source": [
    "model.fit(x_train,y_train_cat,epochs=10)"
   ]
  }
 ],
 "metadata": {
  "kernelspec": {
   "display_name": "Tensorflow (Intel® oneAPI 2023.2)",
   "language": "python",
   "name": "c009-intel_distribution_of_python_3_oneapi-beta05-tf"
  },
  "language_info": {
   "codemirror_mode": {
    "name": "ipython",
    "version": 3
   },
   "file_extension": ".py",
   "mimetype": "text/x-python",
   "name": "python",
   "nbconvert_exporter": "python",
   "pygments_lexer": "ipython3",
   "version": "3.9.16"
  }
 },
 "nbformat": 4,
 "nbformat_minor": 5
}
