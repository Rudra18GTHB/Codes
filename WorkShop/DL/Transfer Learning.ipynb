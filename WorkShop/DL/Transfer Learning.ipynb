{
 "cells": [
  {
   "cell_type": "code",
   "execution_count": 20,
   "id": "f278b6ed-f1f5-4c45-8d78-24e717e6a625",
   "metadata": {},
   "outputs": [],
   "source": [
    "from keras.models import load_model"
   ]
  },
  {
   "cell_type": "code",
   "execution_count": 21,
   "id": "3c43b5ba-1a51-4367-9d32-1ab4908973f9",
   "metadata": {},
   "outputs": [],
   "source": [
    "pmodel = load_model(\"CNN myData.h5\")"
   ]
  },
  {
   "cell_type": "code",
   "execution_count": 22,
   "id": "e8cbe210-c05e-4519-9f26-e8a85d2f4ae4",
   "metadata": {},
   "outputs": [
    {
     "name": "stdout",
     "output_type": "stream",
     "text": [
      "Model: \"sequential_4\"\n",
      "_________________________________________________________________\n",
      " Layer (type)                Output Shape              Param #   \n",
      "=================================================================\n",
      " conv2d_5 (Conv2D)           (None, 222, 222, 64)      1792      \n",
      "                                                                 \n",
      " max_pooling2d_5 (MaxPoolin  (None, 111, 111, 64)      0         \n",
      " g2D)                                                            \n",
      "                                                                 \n",
      " conv2d_6 (Conv2D)           (None, 109, 109, 64)      36928     \n",
      "                                                                 \n",
      " max_pooling2d_6 (MaxPoolin  (None, 54, 54, 64)        0         \n",
      " g2D)                                                            \n",
      "                                                                 \n",
      " conv2d_7 (Conv2D)           (None, 52, 52, 32)        18464     \n",
      "                                                                 \n",
      " max_pooling2d_7 (MaxPoolin  (None, 26, 26, 32)        0         \n",
      " g2D)                                                            \n",
      "                                                                 \n",
      " conv2d_8 (Conv2D)           (None, 24, 24, 16)        4624      \n",
      "                                                                 \n",
      " max_pooling2d_8 (MaxPoolin  (None, 12, 12, 16)        0         \n",
      " g2D)                                                            \n",
      "                                                                 \n",
      " conv2d_9 (Conv2D)           (None, 10, 10, 8)         1160      \n",
      "                                                                 \n",
      " max_pooling2d_9 (MaxPoolin  (None, 5, 5, 8)           0         \n",
      " g2D)                                                            \n",
      "                                                                 \n",
      " flatten_1 (Flatten)         (None, 200)               0         \n",
      "                                                                 \n",
      " dense_3 (Dense)             (None, 64)                12864     \n",
      "                                                                 \n",
      " dense_4 (Dense)             (None, 32)                2080      \n",
      "                                                                 \n",
      " dense_5 (Dense)             (None, 1)                 33        \n",
      "                                                                 \n",
      "=================================================================\n",
      "Total params: 77945 (304.47 KB)\n",
      "Trainable params: 77945 (304.47 KB)\n",
      "Non-trainable params: 0 (0.00 Byte)\n",
      "_________________________________________________________________\n"
     ]
    }
   ],
   "source": [
    "pmodel.summary()"
   ]
  },
  {
   "cell_type": "code",
   "execution_count": 23,
   "id": "d5d50c7c-8fb9-4aec-b682-3631e90d044e",
   "metadata": {},
   "outputs": [],
   "source": [
    "import numpy as np\n",
    "from keras.preprocessing import image"
   ]
  },
  {
   "cell_type": "code",
   "execution_count": 24,
   "id": "6939255d-4cb0-4b7d-ba54-b20210d5b106",
   "metadata": {},
   "outputs": [],
   "source": [
    "def preprocessing_image(image_path):\n",
    "    img = image.load_img(image_path, target_size = (224,224))\n",
    "    img_array = image.img_to_array(img)\n",
    "    img_array = img_array/255\n",
    "    img_array = np.expand_dims(img_array, axis =0)\n",
    "    return img_array"
   ]
  },
  {
   "cell_type": "code",
   "execution_count": 25,
   "id": "1a28e898-7dc6-4fde-95a6-b963c0bb2f72",
   "metadata": {},
   "outputs": [
    {
     "data": {
      "text/plain": [
       "(1, 224, 224, 3)"
      ]
     },
     "execution_count": 25,
     "metadata": {},
     "output_type": "execute_result"
    }
   ],
   "source": [
    "new_image_path = \"Test Images/WIN_20240425_12_26_08_Pro.jpg\"\n",
    "img_array = preprocessing_image(new_image_path)\n",
    "img_array.shape"
   ]
  },
  {
   "cell_type": "code",
   "execution_count": 26,
   "id": "52e6eb03-354f-480d-8ae6-30f9494f7eeb",
   "metadata": {},
   "outputs": [
    {
     "name": "stdout",
     "output_type": "stream",
     "text": [
      "1/1 [==============================] - 0s 136ms/step\n",
      "LeftHand\n"
     ]
    }
   ],
   "source": [
    "prediction = pmodel.predict(img_array)\n",
    "if prediction[0] >= 0.5:\n",
    "    print(\"LeftHand\")\n",
    "else:\n",
    "    print(\"RightHand\")"
   ]
  },
  {
   "cell_type": "code",
   "execution_count": 27,
   "id": "c3afdc56-30e2-4481-8d21-4123be662b90",
   "metadata": {},
   "outputs": [],
   "source": [
    "from keras import applications"
   ]
  },
  {
   "cell_type": "code",
   "execution_count": 28,
   "id": "e09ffef6-37cb-4cf8-8e93-84054bbc1100",
   "metadata": {},
   "outputs": [
    {
     "data": {
      "text/plain": [
       "['ConvNeXtBase',\n",
       " 'ConvNeXtLarge',\n",
       " 'ConvNeXtSmall',\n",
       " 'ConvNeXtTiny',\n",
       " 'ConvNeXtXLarge',\n",
       " 'DenseNet121',\n",
       " 'DenseNet169',\n",
       " 'DenseNet201',\n",
       " 'EfficientNetB0',\n",
       " 'EfficientNetB1',\n",
       " 'EfficientNetB2',\n",
       " 'EfficientNetB3',\n",
       " 'EfficientNetB4',\n",
       " 'EfficientNetB5',\n",
       " 'EfficientNetB6',\n",
       " 'EfficientNetB7',\n",
       " 'EfficientNetV2B0',\n",
       " 'EfficientNetV2B1',\n",
       " 'EfficientNetV2B2',\n",
       " 'EfficientNetV2B3',\n",
       " 'EfficientNetV2L',\n",
       " 'EfficientNetV2M',\n",
       " 'EfficientNetV2S',\n",
       " 'InceptionResNetV2',\n",
       " 'InceptionV3',\n",
       " 'MobileNet',\n",
       " 'MobileNetV2',\n",
       " 'MobileNetV3Large',\n",
       " 'MobileNetV3Small',\n",
       " 'NASNetLarge',\n",
       " 'NASNetMobile',\n",
       " 'RegNetX002',\n",
       " 'RegNetX004',\n",
       " 'RegNetX006',\n",
       " 'RegNetX008',\n",
       " 'RegNetX016',\n",
       " 'RegNetX032',\n",
       " 'RegNetX040',\n",
       " 'RegNetX064',\n",
       " 'RegNetX080',\n",
       " 'RegNetX120',\n",
       " 'RegNetX160',\n",
       " 'RegNetX320',\n",
       " 'RegNetY002',\n",
       " 'RegNetY004',\n",
       " 'RegNetY006',\n",
       " 'RegNetY008',\n",
       " 'RegNetY016',\n",
       " 'RegNetY032',\n",
       " 'RegNetY040',\n",
       " 'RegNetY064',\n",
       " 'RegNetY080',\n",
       " 'RegNetY120',\n",
       " 'RegNetY160',\n",
       " 'RegNetY320',\n",
       " 'ResNet101',\n",
       " 'ResNet101V2',\n",
       " 'ResNet152',\n",
       " 'ResNet152V2',\n",
       " 'ResNet50',\n",
       " 'ResNet50V2',\n",
       " 'ResNetRS101',\n",
       " 'ResNetRS152',\n",
       " 'ResNetRS200',\n",
       " 'ResNetRS270',\n",
       " 'ResNetRS350',\n",
       " 'ResNetRS420',\n",
       " 'ResNetRS50',\n",
       " 'VGG16',\n",
       " 'VGG19',\n",
       " 'Xception',\n",
       " '__builtins__',\n",
       " '__cached__',\n",
       " '__doc__',\n",
       " '__file__',\n",
       " '__loader__',\n",
       " '__name__',\n",
       " '__package__',\n",
       " '__path__',\n",
       " '__spec__',\n",
       " 'convnext',\n",
       " 'densenet',\n",
       " 'efficientnet',\n",
       " 'efficientnet_v2',\n",
       " 'imagenet_utils',\n",
       " 'inception_resnet_v2',\n",
       " 'inception_v3',\n",
       " 'mobilenet',\n",
       " 'mobilenet_v2',\n",
       " 'mobilenet_v3',\n",
       " 'nasnet',\n",
       " 'regnet',\n",
       " 'resnet',\n",
       " 'resnet50',\n",
       " 'resnet_rs',\n",
       " 'resnet_v2',\n",
       " 'vgg16',\n",
       " 'vgg19',\n",
       " 'xception']"
      ]
     },
     "execution_count": 28,
     "metadata": {},
     "output_type": "execute_result"
    }
   ],
   "source": [
    "dir(applications)"
   ]
  },
  {
   "cell_type": "code",
   "execution_count": 29,
   "id": "f7bd780d-3ff3-4088-8848-d44f0ecb2388",
   "metadata": {},
   "outputs": [],
   "source": [
    "model = applications.vgg19.VGG19()"
   ]
  },
  {
   "cell_type": "code",
   "execution_count": 30,
   "id": "4799827d-c6aa-4dd8-9320-275decafe548",
   "metadata": {},
   "outputs": [
    {
     "name": "stdout",
     "output_type": "stream",
     "text": [
      "Model: \"vgg19\"\n",
      "_________________________________________________________________\n",
      " Layer (type)                Output Shape              Param #   \n",
      "=================================================================\n",
      " input_2 (InputLayer)        [(None, 224, 224, 3)]     0         \n",
      "                                                                 \n",
      " block1_conv1 (Conv2D)       (None, 224, 224, 64)      1792      \n",
      "                                                                 \n",
      " block1_conv2 (Conv2D)       (None, 224, 224, 64)      36928     \n",
      "                                                                 \n",
      " block1_pool (MaxPooling2D)  (None, 112, 112, 64)      0         \n",
      "                                                                 \n",
      " block2_conv1 (Conv2D)       (None, 112, 112, 128)     73856     \n",
      "                                                                 \n",
      " block2_conv2 (Conv2D)       (None, 112, 112, 128)     147584    \n",
      "                                                                 \n",
      " block2_pool (MaxPooling2D)  (None, 56, 56, 128)       0         \n",
      "                                                                 \n",
      " block3_conv1 (Conv2D)       (None, 56, 56, 256)       295168    \n",
      "                                                                 \n",
      " block3_conv2 (Conv2D)       (None, 56, 56, 256)       590080    \n",
      "                                                                 \n",
      " block3_conv3 (Conv2D)       (None, 56, 56, 256)       590080    \n",
      "                                                                 \n",
      " block3_conv4 (Conv2D)       (None, 56, 56, 256)       590080    \n",
      "                                                                 \n",
      " block3_pool (MaxPooling2D)  (None, 28, 28, 256)       0         \n",
      "                                                                 \n",
      " block4_conv1 (Conv2D)       (None, 28, 28, 512)       1180160   \n",
      "                                                                 \n",
      " block4_conv2 (Conv2D)       (None, 28, 28, 512)       2359808   \n",
      "                                                                 \n",
      " block4_conv3 (Conv2D)       (None, 28, 28, 512)       2359808   \n",
      "                                                                 \n",
      " block4_conv4 (Conv2D)       (None, 28, 28, 512)       2359808   \n",
      "                                                                 \n",
      " block4_pool (MaxPooling2D)  (None, 14, 14, 512)       0         \n",
      "                                                                 \n",
      " block5_conv1 (Conv2D)       (None, 14, 14, 512)       2359808   \n",
      "                                                                 \n",
      " block5_conv2 (Conv2D)       (None, 14, 14, 512)       2359808   \n",
      "                                                                 \n",
      " block5_conv3 (Conv2D)       (None, 14, 14, 512)       2359808   \n",
      "                                                                 \n",
      " block5_conv4 (Conv2D)       (None, 14, 14, 512)       2359808   \n",
      "                                                                 \n",
      " block5_pool (MaxPooling2D)  (None, 7, 7, 512)         0         \n",
      "                                                                 \n",
      " flatten (Flatten)           (None, 25088)             0         \n",
      "                                                                 \n",
      " fc1 (Dense)                 (None, 4096)              102764544 \n",
      "                                                                 \n",
      " fc2 (Dense)                 (None, 4096)              16781312  \n",
      "                                                                 \n",
      " predictions (Dense)         (None, 1000)              4097000   \n",
      "                                                                 \n",
      "=================================================================\n",
      "Total params: 143667240 (548.05 MB)\n",
      "Trainable params: 143667240 (548.05 MB)\n",
      "Non-trainable params: 0 (0.00 Byte)\n",
      "_________________________________________________________________\n"
     ]
    }
   ],
   "source": [
    "model.summary()"
   ]
  },
  {
   "cell_type": "code",
   "execution_count": 31,
   "id": "cd79c86f-7ad6-4534-9bcd-1eb93afef138",
   "metadata": {},
   "outputs": [],
   "source": [
    "from keras import Sequential, layers"
   ]
  },
  {
   "cell_type": "code",
   "execution_count": 32,
   "id": "e3bd45fe-7249-4682-8998-2ff4a5279843",
   "metadata": {},
   "outputs": [],
   "source": [
    "myModel = Sequential()"
   ]
  },
  {
   "cell_type": "code",
   "execution_count": 33,
   "id": "f5612d15-3510-4cd5-8db8-e2e973a757cf",
   "metadata": {},
   "outputs": [
    {
     "name": "stdout",
     "output_type": "stream",
     "text": [
      "Model: \"sequential_1\"\n",
      "_________________________________________________________________\n",
      " Layer (type)                Output Shape              Param #   \n",
      "=================================================================\n",
      " block1_conv1 (Conv2D)       (None, 224, 224, 64)      1792      \n",
      "                                                                 \n",
      " block1_conv2 (Conv2D)       (None, 224, 224, 64)      36928     \n",
      "                                                                 \n",
      " block1_pool (MaxPooling2D)  (None, 112, 112, 64)      0         \n",
      "                                                                 \n",
      " block2_conv1 (Conv2D)       (None, 112, 112, 128)     73856     \n",
      "                                                                 \n",
      " block2_conv2 (Conv2D)       (None, 112, 112, 128)     147584    \n",
      "                                                                 \n",
      " block2_pool (MaxPooling2D)  (None, 56, 56, 128)       0         \n",
      "                                                                 \n",
      " block3_conv1 (Conv2D)       (None, 56, 56, 256)       295168    \n",
      "                                                                 \n",
      " block3_conv2 (Conv2D)       (None, 56, 56, 256)       590080    \n",
      "                                                                 \n",
      " block3_conv3 (Conv2D)       (None, 56, 56, 256)       590080    \n",
      "                                                                 \n",
      " block3_conv4 (Conv2D)       (None, 56, 56, 256)       590080    \n",
      "                                                                 \n",
      " block3_pool (MaxPooling2D)  (None, 28, 28, 256)       0         \n",
      "                                                                 \n",
      " block4_conv1 (Conv2D)       (None, 28, 28, 512)       1180160   \n",
      "                                                                 \n",
      " block4_conv2 (Conv2D)       (None, 28, 28, 512)       2359808   \n",
      "                                                                 \n",
      " block4_conv3 (Conv2D)       (None, 28, 28, 512)       2359808   \n",
      "                                                                 \n",
      " block4_conv4 (Conv2D)       (None, 28, 28, 512)       2359808   \n",
      "                                                                 \n",
      " block4_pool (MaxPooling2D)  (None, 14, 14, 512)       0         \n",
      "                                                                 \n",
      " block5_conv1 (Conv2D)       (None, 14, 14, 512)       2359808   \n",
      "                                                                 \n",
      " block5_conv2 (Conv2D)       (None, 14, 14, 512)       2359808   \n",
      "                                                                 \n",
      " block5_conv3 (Conv2D)       (None, 14, 14, 512)       2359808   \n",
      "                                                                 \n",
      " block5_conv4 (Conv2D)       (None, 14, 14, 512)       2359808   \n",
      "                                                                 \n",
      " block5_pool (MaxPooling2D)  (None, 7, 7, 512)         0         \n",
      "                                                                 \n",
      " flatten (Flatten)           (None, 25088)             0         \n",
      "                                                                 \n",
      "=================================================================\n",
      "Total params: 20024384 (76.39 MB)\n",
      "Trainable params: 0 (0.00 Byte)\n",
      "Non-trainable params: 20024384 (76.39 MB)\n",
      "_________________________________________________________________\n"
     ]
    }
   ],
   "source": [
    "for layer in model.layers[0:-3]:\n",
    "    layer.trainable = False\n",
    "    myModel.add(layer)\n",
    "\n",
    "myModel.summary()"
   ]
  },
  {
   "cell_type": "code",
   "execution_count": 34,
   "id": "dd6754d4-c568-4984-be43-c5623f896933",
   "metadata": {},
   "outputs": [],
   "source": [
    "myModel.add(layers.Dense(64,activation='relu'))\n",
    "myModel.add(layers.Dense(32,activation='relu'))\n",
    "myModel.add(layers.Dense(1,activation='sigmoid')) #binary class"
   ]
  },
  {
   "cell_type": "code",
   "execution_count": 35,
   "id": "c15893dd-81ed-4342-9288-8fe48b78aded",
   "metadata": {},
   "outputs": [
    {
     "name": "stdout",
     "output_type": "stream",
     "text": [
      "Model: \"sequential_1\"\n",
      "_________________________________________________________________\n",
      " Layer (type)                Output Shape              Param #   \n",
      "=================================================================\n",
      " block1_conv1 (Conv2D)       (None, 224, 224, 64)      1792      \n",
      "                                                                 \n",
      " block1_conv2 (Conv2D)       (None, 224, 224, 64)      36928     \n",
      "                                                                 \n",
      " block1_pool (MaxPooling2D)  (None, 112, 112, 64)      0         \n",
      "                                                                 \n",
      " block2_conv1 (Conv2D)       (None, 112, 112, 128)     73856     \n",
      "                                                                 \n",
      " block2_conv2 (Conv2D)       (None, 112, 112, 128)     147584    \n",
      "                                                                 \n",
      " block2_pool (MaxPooling2D)  (None, 56, 56, 128)       0         \n",
      "                                                                 \n",
      " block3_conv1 (Conv2D)       (None, 56, 56, 256)       295168    \n",
      "                                                                 \n",
      " block3_conv2 (Conv2D)       (None, 56, 56, 256)       590080    \n",
      "                                                                 \n",
      " block3_conv3 (Conv2D)       (None, 56, 56, 256)       590080    \n",
      "                                                                 \n",
      " block3_conv4 (Conv2D)       (None, 56, 56, 256)       590080    \n",
      "                                                                 \n",
      " block3_pool (MaxPooling2D)  (None, 28, 28, 256)       0         \n",
      "                                                                 \n",
      " block4_conv1 (Conv2D)       (None, 28, 28, 512)       1180160   \n",
      "                                                                 \n",
      " block4_conv2 (Conv2D)       (None, 28, 28, 512)       2359808   \n",
      "                                                                 \n",
      " block4_conv3 (Conv2D)       (None, 28, 28, 512)       2359808   \n",
      "                                                                 \n",
      " block4_conv4 (Conv2D)       (None, 28, 28, 512)       2359808   \n",
      "                                                                 \n",
      " block4_pool (MaxPooling2D)  (None, 14, 14, 512)       0         \n",
      "                                                                 \n",
      " block5_conv1 (Conv2D)       (None, 14, 14, 512)       2359808   \n",
      "                                                                 \n",
      " block5_conv2 (Conv2D)       (None, 14, 14, 512)       2359808   \n",
      "                                                                 \n",
      " block5_conv3 (Conv2D)       (None, 14, 14, 512)       2359808   \n",
      "                                                                 \n",
      " block5_conv4 (Conv2D)       (None, 14, 14, 512)       2359808   \n",
      "                                                                 \n",
      " block5_pool (MaxPooling2D)  (None, 7, 7, 512)         0         \n",
      "                                                                 \n",
      " flatten (Flatten)           (None, 25088)             0         \n",
      "                                                                 \n",
      " dense (Dense)               (None, 64)                1605696   \n",
      "                                                                 \n",
      " dense_1 (Dense)             (None, 32)                2080      \n",
      "                                                                 \n",
      " dense_2 (Dense)             (None, 1)                 33        \n",
      "                                                                 \n",
      "=================================================================\n",
      "Total params: 21632193 (82.52 MB)\n",
      "Trainable params: 1607809 (6.13 MB)\n",
      "Non-trainable params: 20024384 (76.39 MB)\n",
      "_________________________________________________________________\n"
     ]
    }
   ],
   "source": [
    "myModel.summary()"
   ]
  },
  {
   "cell_type": "code",
   "execution_count": 37,
   "id": "b2225d4c-2569-4156-a575-900dd6640047",
   "metadata": {},
   "outputs": [],
   "source": [
    "myModel.compile(optimizer='adam',loss=\"binary_crossentropy\",metrics=['accuracy'])"
   ]
  },
  {
   "cell_type": "code",
   "execution_count": 39,
   "id": "32efbcc1-d71d-4f3d-b54b-cf4ae30f6468",
   "metadata": {},
   "outputs": [],
   "source": [
    "from keras.preprocessing.image import ImageDataGenerator"
   ]
  },
  {
   "cell_type": "code",
   "execution_count": 51,
   "id": "c4b153fc-d3a5-44cc-99d5-7ccba732a6bb",
   "metadata": {},
   "outputs": [],
   "source": [
    "train_path = \"images/train\"\n",
    "validation_path = \"images/validation\""
   ]
  },
  {
   "cell_type": "code",
   "execution_count": 52,
   "id": "da928b02-ffd3-4521-a70c-5f618449aa91",
   "metadata": {},
   "outputs": [],
   "source": [
    "preprocessing_func = applications.vgg19.preprocess_input"
   ]
  },
  {
   "cell_type": "code",
   "execution_count": 53,
   "id": "6641149b-5260-4530-8447-5a4f824d7e92",
   "metadata": {},
   "outputs": [
    {
     "name": "stdout",
     "output_type": "stream",
     "text": [
      "Found 142 images belonging to 2 classes.\n",
      "Found 60 images belonging to 2 classes.\n"
     ]
    }
   ],
   "source": [
    "train_generator = ImageDataGenerator(preprocessing_function = preprocessing_func)\n",
    "validation_generator = ImageDataGenerator(preprocessing_function = preprocessing_func)\n",
    "train_data = train_generator.flow_from_directory(train_path, target_size = (224,224), class_mode = \"binary\")\n",
    "validation_data = validation_generator.flow_from_directory(validation_path, target_size = (224,224), class_mode = \"binary\")"
   ]
  },
  {
   "cell_type": "code",
   "execution_count": 55,
   "id": "78036dd3-2216-40b0-a31a-088c0c9ca1c8",
   "metadata": {},
   "outputs": [
    {
     "name": "stdout",
     "output_type": "stream",
     "text": [
      "Epoch 1/20\n",
      "5/5 [==============================] - 11s 2s/step - loss: 2.3157 - accuracy: 0.8451 - val_loss: 1.5716e-05 - val_accuracy: 1.0000\n",
      "Epoch 2/20\n",
      "5/5 [==============================] - 10s 2s/step - loss: 0.0155 - accuracy: 0.9930 - val_loss: 7.9610e-09 - val_accuracy: 1.0000\n",
      "Epoch 3/20\n",
      "5/5 [==============================] - 10s 2s/step - loss: 1.0040e-09 - accuracy: 1.0000 - val_loss: 1.0385e-15 - val_accuracy: 1.0000\n",
      "Epoch 4/20\n",
      "5/5 [==============================] - 10s 2s/step - loss: 2.0244e-14 - accuracy: 1.0000 - val_loss: 4.2358e-20 - val_accuracy: 1.0000\n",
      "Epoch 5/20\n",
      "5/5 [==============================] - 10s 2s/step - loss: 3.6976e-19 - accuracy: 1.0000 - val_loss: 7.2583e-23 - val_accuracy: 1.0000\n",
      "Epoch 6/20\n",
      "5/5 [==============================] - 10s 2s/step - loss: 4.4096e-20 - accuracy: 1.0000 - val_loss: 2.9010e-24 - val_accuracy: 1.0000\n",
      "Epoch 7/20\n",
      "5/5 [==============================] - 10s 2s/step - loss: 5.5421e-22 - accuracy: 1.0000 - val_loss: 1.1585e-24 - val_accuracy: 1.0000\n",
      "Epoch 8/20\n",
      "5/5 [==============================] - 10s 2s/step - loss: 3.1361e-22 - accuracy: 1.0000 - val_loss: 8.3069e-25 - val_accuracy: 1.0000\n",
      "Epoch 9/20\n",
      "5/5 [==============================] - 10s 2s/step - loss: 2.6276e-22 - accuracy: 1.0000 - val_loss: 6.9391e-25 - val_accuracy: 1.0000\n",
      "Epoch 10/20\n",
      "5/5 [==============================] - 12s 3s/step - loss: 2.3499e-22 - accuracy: 1.0000 - val_loss: 6.2091e-25 - val_accuracy: 1.0000\n",
      "Epoch 11/20\n",
      "5/5 [==============================] - 10s 2s/step - loss: 2.2364e-22 - accuracy: 1.0000 - val_loss: 5.8029e-25 - val_accuracy: 1.0000\n",
      "Epoch 12/20\n",
      "5/5 [==============================] - 10s 2s/step - loss: 2.1772e-22 - accuracy: 1.0000 - val_loss: 5.5685e-25 - val_accuracy: 1.0000\n",
      "Epoch 13/20\n",
      "5/5 [==============================] - 10s 2s/step - loss: 2.1417e-22 - accuracy: 1.0000 - val_loss: 5.4296e-25 - val_accuracy: 1.0000\n",
      "Epoch 14/20\n",
      "5/5 [==============================] - 10s 2s/step - loss: 2.1109e-22 - accuracy: 1.0000 - val_loss: 5.3462e-25 - val_accuracy: 1.0000\n",
      "Epoch 15/20\n",
      "5/5 [==============================] - 10s 2s/step - loss: 2.0994e-22 - accuracy: 1.0000 - val_loss: 5.2958e-25 - val_accuracy: 1.0000\n",
      "Epoch 16/20\n",
      "5/5 [==============================] - 10s 2s/step - loss: 2.0914e-22 - accuracy: 1.0000 - val_loss: 5.2653e-25 - val_accuracy: 1.0000\n",
      "Epoch 17/20\n",
      "5/5 [==============================] - 10s 2s/step - loss: 2.0866e-22 - accuracy: 1.0000 - val_loss: 5.2468e-25 - val_accuracy: 1.0000\n",
      "Epoch 18/20\n",
      "5/5 [==============================] - 10s 2s/step - loss: 2.0834e-22 - accuracy: 1.0000 - val_loss: 5.2355e-25 - val_accuracy: 1.0000\n",
      "Epoch 19/20\n",
      "5/5 [==============================] - 10s 2s/step - loss: 2.0823e-22 - accuracy: 1.0000 - val_loss: 5.2287e-25 - val_accuracy: 1.0000\n",
      "Epoch 20/20\n",
      "5/5 [==============================] - 10s 2s/step - loss: 2.0809e-22 - accuracy: 1.0000 - val_loss: 5.2245e-25 - val_accuracy: 1.0000\n"
     ]
    },
    {
     "data": {
      "text/plain": [
       "<keras.src.callbacks.History at 0x7f82aeff9220>"
      ]
     },
     "execution_count": 55,
     "metadata": {},
     "output_type": "execute_result"
    }
   ],
   "source": [
    "myModel.fit(train_data,epochs =20,validation_data = validation_data)"
   ]
  },
  {
   "cell_type": "code",
   "execution_count": null,
   "id": "00c0f240-a124-4121-9a81-1ea36bf3bfbe",
   "metadata": {},
   "outputs": [],
   "source": []
  }
 ],
 "metadata": {
  "kernelspec": {
   "display_name": "Tensorflow (Intel® oneAPI 2024.1)",
   "language": "python",
   "name": "c009-intel_distribution_of_python_3_oneapi-beta05-tf-2024.1"
  },
  "language_info": {
   "codemirror_mode": {
    "name": "ipython",
    "version": 3
   },
   "file_extension": ".py",
   "mimetype": "text/x-python",
   "name": "python",
   "nbconvert_exporter": "python",
   "pygments_lexer": "ipython3",
   "version": "3.9.18"
  }
 },
 "nbformat": 4,
 "nbformat_minor": 5
}
